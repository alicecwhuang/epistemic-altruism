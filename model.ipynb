{
 "cells": [
  {
   "cell_type": "markdown",
   "id": "73290166-353a-405d-98b1-134c0c19e095",
   "metadata": {
    "jp-MarkdownHeadingCollapsed": true
   },
   "source": [
    "#### Load packages"
   ]
  },
  {
   "cell_type": "code",
   "execution_count": 1,
   "id": "23fb9ca3-b136-4be5-b4db-7643b9f26a08",
   "metadata": {},
   "outputs": [],
   "source": [
    "import random\n",
    "import numpy as np\n",
    "import pandas as pd\n",
    "import networkx as nx\n",
    "import scipy.stats\n",
    "import matplotlib.pyplot as plt\n",
    "import ast"
   ]
  },
  {
   "cell_type": "markdown",
   "id": "ec49833a-2775-444f-ab7d-f8b141dc4d06",
   "metadata": {
    "jp-MarkdownHeadingCollapsed": true
   },
   "source": [
    "#### Perfect communication model in BSM"
   ]
  },
  {
   "cell_type": "code",
   "execution_count": 2,
   "id": "36ade954-382d-44a9-94ec-486e93ccb7bb",
   "metadata": {},
   "outputs": [],
   "source": [
    "class Agent():\n",
    "    def __init__(self, model, id, reliability):\n",
    "        self.model = model\n",
    "        self.id = id\n",
    "        self.r = reliability\n",
    "        self.peers = [] # list of all scientists\n",
    "        self.urn = np.array([]) # probability [nature, agent 1, agent 2,...]\n",
    "        self.belief = 0 # current belief\n",
    "        self.choice = None\n",
    "        self.n_success = 0\n",
    "    def choose(self):\n",
    "        prob = self.urn/sum(self.urn)\n",
    "        return np.random.choice(len(self.urn), size=1, p=prob)[0]\n",
    "    def experiment(self):\n",
    "        return 1 if random.random() < self.r else 0\n",
    "    def update(self):\n",
    "        self.choice = int(self.choose())\n",
    "        if self.choice == 0:\n",
    "            self.belief = self.experiment()\n",
    "        else:\n",
    "            self.belief = self.peers[self.choice - 1].belief\n",
    "        self.n_success += self.belief\n",
    "    def reinforce(self):\n",
    "        if self.belief:\n",
    "            self.urn[self.choice] += 1"
   ]
  },
  {
   "cell_type": "code",
   "execution_count": 3,
   "id": "1e3c3881-b013-4280-83f3-2b1c01d7100a",
   "metadata": {},
   "outputs": [],
   "source": [
    "class Model():\n",
    "    def __init__(self, n=5, round_per_gen=100, gen_per_run=200):\n",
    "        \"\"\"n: total number of agents\"\"\"\n",
    "        \"\"\"lb: lowest reliability amongst agents\"\"\"\n",
    "        self.n = n\n",
    "        self.round_per_gen = round_per_gen\n",
    "        self.gen_per_run = gen_per_run\n",
    "        self.agents = [] # list of agents\n",
    "        self.Rs = [round(random.random(), 2) for i in range(n)] # varying reliability\n",
    "        \"\"\"Create agents\"\"\"\n",
    "        for i in range(n):\n",
    "            self.agents.append(Agent(self, i, self.Rs[i]))\n",
    "        self.init_agents()\n",
    "    def init_agents(self):\n",
    "        for a in self.agents:\n",
    "            a.peers = self.agents\n",
    "            a.urn = np.array([1] * (self.n + 1))\n",
    "            a.urn[a.id+1] = 0\n",
    "    def play(self):\n",
    "        ls = list(range(self.n))\n",
    "        random.shuffle(ls)\n",
    "        for i in ls:\n",
    "            a = self.agents[i]\n",
    "            a.update()\n",
    "            a.reinforce()\n",
    "    def run(self):\n",
    "        for i in range(self.gen_per_run):\n",
    "            for a in self.agents:\n",
    "                a.belief = a.experiment()\n",
    "            for i in range(self.round_per_gen):\n",
    "                self.play()"
   ]
  },
  {
   "cell_type": "markdown",
   "id": "b5dbdbf3-6efe-42c8-912a-6e3452d45a87",
   "metadata": {
    "jp-MarkdownHeadingCollapsed": true
   },
   "source": [
    "#### Draw network"
   ]
  },
  {
   "cell_type": "code",
   "execution_count": 4,
   "id": "bd1add99-a866-40b9-b125-fe3d5704804d",
   "metadata": {},
   "outputs": [],
   "source": [
    "def create_network(model, threshold):    \n",
    "    \n",
    "    # Create a directed graph with significant edges (above threshold prob)\n",
    "    G = nx.DiGraph()\n",
    "    G.add_node('nature')\n",
    "    for a in model.agents:\n",
    "        G.add_node(a.id)\n",
    "        if a.urn[0]/sum(a.urn) > threshold:\n",
    "            G.add_edge(a.id, \"nature\", weight=a.urn[0]/sum(a.urn))\n",
    "        for i in range(model.n):\n",
    "            if (a.id != i) and (a.urn[i+1]/sum(a.urn) > threshold):\n",
    "                G.add_edge(a.id, i, weight=a.urn[i+1]/sum(a.urn))\n",
    "    return(G)"
   ]
  },
  {
   "cell_type": "code",
   "execution_count": 5,
   "id": "30ff7360-f151-4383-a9e3-0fdb79bba351",
   "metadata": {},
   "outputs": [],
   "source": [
    "def plot_network(model, threshold=0.3):\n",
    "\n",
    "    G = create_network(model, threshold)\n",
    "    # Get the weights for the edges\n",
    "    weights = nx.get_edge_attributes(G, 'weight')\n",
    "    \n",
    "    # Normalize weights for better visualization\n",
    "    max_weight = max(weights.values(), default=1)\n",
    "    edge_widths = [(weight * 2) / max_weight for weight in weights.values()]\n",
    "    \n",
    "    # Draw the network\n",
    "    pos = nx.shell_layout(G)\n",
    "    nx.draw(G, pos, with_labels=False, node_color='lightblue', node_size=1500, \n",
    "            arrows=True, arrowstyle='-|>', arrowsize=20, edge_color='black', \n",
    "            width=edge_widths, edgecolors='black')\n",
    "\n",
    "    # Label with reliability\n",
    "    labels = {key: value for key, value in zip(range(model.n), model.Rs)}\n",
    "    labels['nature'] = 'nature'\n",
    "    nx.draw_networkx_labels(G, pos, labels=labels, font_size=10)\n",
    "\n",
    "    # Label edges\n",
    "    edge_labels = {(u, v): f'{d[\"weight\"]:.2f}' for u, v, d in G.edges(data=True)}\n",
    "\n",
    "    for (u, v), label in edge_labels.items():\n",
    "        # Compute midpoint\n",
    "        x_start, y_start = pos[u]\n",
    "        x_end, y_end = pos[v]\n",
    "        \n",
    "        # Offset to position label closer to the start of the edge\n",
    "        offset = 0.6  # Adjust this value to control the distance from the start\n",
    "        x_label = x_start + offset * (x_end - x_start)\n",
    "        y_label = y_start + offset * (y_end - y_start)\n",
    "        \n",
    "        # Draw the label\n",
    "        plt.text(x_label, y_label, label, color='black', fontsize=10, \n",
    "                 ha='center', va='center',\n",
    "                 bbox=dict(facecolor='white', edgecolor='none', boxstyle='round,pad=0.3')\n",
    "                )"
   ]
  },
  {
   "cell_type": "markdown",
   "id": "25ec9eb9-fbf6-41c5-ac32-b8b60adfc90d",
   "metadata": {
    "jp-MarkdownHeadingCollapsed": true
   },
   "source": [
    "#### Test Model Code"
   ]
  },
  {
   "cell_type": "code",
   "execution_count": 32,
   "id": "0489e8b2-4f50-4eab-ab7e-13f945751b01",
   "metadata": {},
   "outputs": [],
   "source": [
    "df = pd.DataFrame(columns=['reliability', 'matrix', 'success'])\n",
    "for i in range(1):\n",
    "    m = Model(n=5)\n",
    "    m.run()\n",
    "    df.loc[i] = [m.Rs, [a.urn for a in m.agents], [a.n_success for a in m.agents]]"
   ]
  },
  {
   "cell_type": "code",
   "execution_count": 33,
   "id": "cfe47067-bce9-48e4-8548-9006ebcf6ed3",
   "metadata": {},
   "outputs": [
    {
     "data": {
      "image/png": "[encoded data removed]",
      "text/plain": [
       "<Figure size 640x480 with 1 Axes>"
      ]
     },
     "metadata": {},
     "output_type": "display_data"
    }
   ],
   "source": [
    "plot_network(m)"
   ]
  },
  {
   "cell_type": "code",
   "execution_count": 34,
   "id": "f3f8142e-0114-4197-a4b1-a20853b9dc90",
   "metadata": {},
   "outputs": [
    {
     "data": {
      "text/html": [
       "<div>\n",
       "<style scoped>\n",
       "    .dataframe tbody tr th:only-of-type {\n",
       "        vertical-align: middle;\n",
       "    }\n",
       "\n",
       "    .dataframe tbody tr th {\n",
       "        vertical-align: top;\n",
       "    }\n",
       "\n",
       "    .dataframe thead th {\n",
       "        text-align: right;\n",
       "    }\n",
       "</style>\n",
       "<table border=\"1\" class=\"dataframe\">\n",
       "  <thead>\n",
       "    <tr style=\"text-align: right;\">\n",
       "      <th></th>\n",
       "      <th>reliability</th>\n",
       "      <th>matrix</th>\n",
       "      <th>success</th>\n",
       "    </tr>\n",
       "  </thead>\n",
       "  <tbody>\n",
       "    <tr>\n",
       "      <th>0</th>\n",
       "      <td>[0.05, 0.95, 0.4, 0.57, 0.59]</td>\n",
       "      <td>[[475, 0, 8274, 3913, 136, 2753], [11427, 3251...</td>\n",
       "      <td>[18777, 19197, 18740, 15742, 17911]</td>\n",
       "    </tr>\n",
       "  </tbody>\n",
       "</table>\n",
       "</div>"
      ],
      "text/plain": [
       "                     reliability  \\\n",
       "0  [0.05, 0.95, 0.4, 0.57, 0.59]   \n",
       "\n",
       "                                              matrix  \\\n",
       "0  [[475, 0, 8274, 3913, 136, 2753], [11427, 3251...   \n",
       "\n",
       "                               success  \n",
       "0  [18777, 19197, 18740, 15742, 17911]  "
      ]
     },
     "execution_count": 34,
     "metadata": {},
     "output_type": "execute_result"
    }
   ],
   "source": [
    "df"
   ]
  },
  {
   "cell_type": "markdown",
   "id": "f5b60a6b-186f-418a-9446-ff9f6917b73e",
   "metadata": {
    "jp-MarkdownHeadingCollapsed": true
   },
   "source": [
    "#### BH Model (My Version)"
   ]
  },
  {
   "cell_type": "code",
   "execution_count": 6,
   "id": "23277d33-3244-46b3-a48d-75da66199973",
   "metadata": {},
   "outputs": [],
   "source": [
    "class BHAgent(Agent):\n",
    "    def __init__(self, model, id, reliability, n_votes=3):\n",
    "        super().__init__(model, id, reliability)\n",
    "        self.n_votes = n_votes\n",
    "    def choose(self):\n",
    "        choice = np.array([0]*len(self.urn))\n",
    "        for i in range(self.n_votes):\n",
    "            prob = self.urn/sum(self.urn)\n",
    "            pick = np.random.choice(range(len(self.urn)), p=prob)\n",
    "            choice[pick] += 1\n",
    "            self.urn[pick] -= 1\n",
    "        self.urn = self.urn + choice\n",
    "        return choice\n",
    "    def update(self):\n",
    "        self.choice = self.choose()\n",
    "        votes = 0\n",
    "        for i in range(self.choice[0]):\n",
    "            votes += self.experiment()\n",
    "        votes += sum(self.choice[1:] * np.array([a.belief for a in self.model.agents]))\n",
    "        if votes > (sum(self.choice) * 0.5):\n",
    "            self.belief = 1\n",
    "        else:\n",
    "            self.belief = 0\n",
    "        self.n_success += self.belief\n",
    "    def reinforce(self):\n",
    "        if self.belief:\n",
    "            self.urn = self.urn + self.choice"
   ]
  },
  {
   "cell_type": "code",
   "execution_count": 7,
   "id": "5037ca51-fcf6-48a2-9c6d-acd8204815ea",
   "metadata": {},
   "outputs": [],
   "source": [
    "class BHModel(Model):\n",
    "    def __init__(self, n=5, round_per_gen=100, gen_per_run=200):\n",
    "        \"\"\"n: total number of agents\"\"\"\n",
    "        \"\"\"lb: lowest reliability amongst agents\"\"\"\n",
    "        super().__init__(n, round_per_gen, gen_per_run)\n",
    "        self.agents = []\n",
    "        for i in range(n):\n",
    "            self.agents.append(BHAgent(self, i, self.Rs[i]))\n",
    "        self.init_agents()"
   ]
  },
  {
   "cell_type": "markdown",
   "id": "89deeeee-1fa6-4f85-84d5-34e7e1e6a9f1",
   "metadata": {
    "jp-MarkdownHeadingCollapsed": true
   },
   "source": [
    "#### Add Group Reward (Consensus) to BH Model"
   ]
  },
  {
   "cell_type": "code",
   "execution_count": 8,
   "id": "0803bb6b-998d-4c54-8e07-aff44b336695",
   "metadata": {},
   "outputs": [],
   "source": [
    "class CoopWeightAgent(BHAgent):\n",
    "    \"Strength of reinforcement dependent on success of group\"\n",
    "    \"Only reinforce if there is individual success\"\n",
    "    def __init__(self, model, id, reliability, n_votes=3, w=1):\n",
    "        super().__init__(model, id, reliability, n_votes)\n",
    "        self.w = w # weight\n",
    "    def reinforce(self, s):\n",
    "        if self.belief:\n",
    "            self.urn = self.urn + self.choice * self.w * s"
   ]
  },
  {
   "cell_type": "code",
   "execution_count": 9,
   "id": "4965c992-57e6-4d4d-85bd-e44502d5c51a",
   "metadata": {},
   "outputs": [],
   "source": [
    "class CoopBonusAgent(BHAgent):\n",
    "    \"First reinforce based on individual results\"\n",
    "    \"BONUS reinforcement dependent on success of group\"\n",
    "    def __init__(self, model, id, reliability, n_votes=3, w=1):\n",
    "        super().__init__(model, id, reliability, n_votes)\n",
    "        self.w = w # weight\n",
    "    def reinforce(self, s):\n",
    "        if self.belief:\n",
    "            self.urn = self.urn + self.choice\n",
    "        self.urn = self.urn + self.choice * self.w * s"
   ]
  },
  {
   "cell_type": "code",
   "execution_count": 10,
   "id": "301cfe86-3698-4510-8df5-e1a01bae82b9",
   "metadata": {},
   "outputs": [],
   "source": [
    "class CoopRewardModel(BHModel):\n",
    "    def __init__(self, n=5, round_per_gen=100, gen_per_run=200, weight=1, v=1):\n",
    "        super().__init__(n, round_per_gen, gen_per_run)\n",
    "        self.w = weight\n",
    "        self.agents = []\n",
    "        if v == 1:\n",
    "            for i in range(n):\n",
    "                self.agents.append(CoopWeightAgent(self, i, self.Rs[i]))\n",
    "        elif v == 2:\n",
    "            for i in range(n):\n",
    "                self.agents.append(CoopBonusAgent(self, i, self.Rs[i]))\n",
    "        self.init_agents()\n",
    "    def play(self):\n",
    "        ls = list(range(self.n))\n",
    "        random.shuffle(ls)\n",
    "        for i in ls:\n",
    "            a = self.agents[i]\n",
    "            a.update()\n",
    "        s = sum([a.belief for a in self.agents]) # Number of successful agents this round\n",
    "        for a in self.agents:\n",
    "            a.reinforce(s)"
   ]
  },
  {
   "cell_type": "markdown",
   "id": "57230155-c7b9-4ab2-b413-66929408a4ba",
   "metadata": {
    "jp-MarkdownHeadingCollapsed": true
   },
   "source": [
    "#### Add Competition to BH Model"
   ]
  },
  {
   "cell_type": "code",
   "execution_count": 11,
   "id": "b639e22a-8730-488b-8a69-d1cd59350dbf",
   "metadata": {},
   "outputs": [],
   "source": [
    "class CompetitionModel(BHModel):\n",
    "    def __init__(self, n=5, round_per_gen=100, gen_per_run=200, weight=1, v=1):\n",
    "        super().__init__(n, round_per_gen, gen_per_run)\n",
    "        self.w = weight\n",
    "        self.agents = []\n",
    "        if v == 1:\n",
    "            for i in range(n):\n",
    "                self.agents.append(CoopWeightAgent(self, i, self.Rs[i]))\n",
    "        elif v == 2:\n",
    "            for i in range(n):\n",
    "                self.agents.append(CoopBonusAgent(self, i, self.Rs[i]))\n",
    "        self.init_agents()\n",
    "    def play(self):\n",
    "        ls = list(range(self.n))\n",
    "        random.shuffle(ls)\n",
    "        for i in ls:\n",
    "            a = self.agents[i]\n",
    "            a.update()\n",
    "        s = self.n - sum([a.belief for a in self.agents]) # Number of unsuccessful agents this round\n",
    "        for a in self.agents:\n",
    "            a.reinforce(s)"
   ]
  },
  {
   "cell_type": "markdown",
   "id": "d55580ae-379a-44ea-9fdc-20dae75103bf",
   "metadata": {
    "jp-MarkdownHeadingCollapsed": true
   },
   "source": [
    "#### Compare Binary Models"
   ]
  },
  {
   "cell_type": "code",
   "execution_count": 54,
   "id": "8af97cae-2b63-4c37-9b17-36c88eae8c3e",
   "metadata": {},
   "outputs": [],
   "source": [
    "columns = ['reliability', \n",
    "           'matrix_BSM', 'success_BSM',\n",
    "           'matrix_BH', 'success_BH', \n",
    "           'matrix_GC2_F', 'success_GC2_F',\n",
    "           'matrix_comp2_F', 'success_comp2_F'\n",
    "          ]\n",
    "df = pd.DataFrame(columns=columns)\n",
    "n = 5\n",
    "\n",
    "Rs = pd.read_csv('Rs.csv')\n",
    "Rs = Rs['reliability'].apply(ast.literal_eval)\n",
    "\n",
    "for i in range(1):\n",
    "    models = [Model(n=n),\n",
    "              BHModel(n=n),\n",
    "              CoopRewardModel(n=n, weight=1, v=2), \n",
    "              CompetitionModel(n=n, weight=1, v=2)]\n",
    "    for m in models:\n",
    "        for a in m.agents:\n",
    "            a.r = Rs[i][a.id]\n",
    "    data = []\n",
    "    data.append(Rs[i])\n",
    "    for m in models:\n",
    "        m.run()\n",
    "        data.append([a.urn for a in m.agents])\n",
    "        data.append([a.n_success for a in m.agents])\n",
    "    df = pd.concat([df, pd.DataFrame([data], columns=columns)], ignore_index=True)"
   ]
  },
  {
   "cell_type": "code",
   "execution_count": 55,
   "id": "7db4b24c-2aed-423b-a990-145fa58a8a41",
   "metadata": {
    "scrolled": true
   },
   "outputs": [
    {
     "data": {
      "text/html": [
       "<div>\n",
       "<style scoped>\n",
       "    .dataframe tbody tr th:only-of-type {\n",
       "        vertical-align: middle;\n",
       "    }\n",
       "\n",
       "    .dataframe tbody tr th {\n",
       "        vertical-align: top;\n",
       "    }\n",
       "\n",
       "    .dataframe thead th {\n",
       "        text-align: right;\n",
       "    }\n",
       "</style>\n",
       "<table border=\"1\" class=\"dataframe\">\n",
       "  <thead>\n",
       "    <tr style=\"text-align: right;\">\n",
       "      <th></th>\n",
       "      <th>reliability</th>\n",
       "      <th>matrix_BSM</th>\n",
       "      <th>success_BSM</th>\n",
       "      <th>matrix_BH</th>\n",
       "      <th>success_BH</th>\n",
       "      <th>matrix_GC2_F</th>\n",
       "      <th>success_GC2_F</th>\n",
       "      <th>matrix_comp2_F</th>\n",
       "      <th>success_comp2_F</th>\n",
       "    </tr>\n",
       "  </thead>\n",
       "  <tbody>\n",
       "    <tr>\n",
       "      <th>0</th>\n",
       "      <td>[0.69, 0.78, 0.62, 0.07, 0.99]</td>\n",
       "      <td>[[222, 0, 14680, 1245, 1786, 680], [2732, 708,...</td>\n",
       "      <td>[18608, 18676, 18739, 18763, 19601]</td>\n",
       "      <td>[[7871, 0, 5949, 4533, 3792, 30570], [15403, 8...</td>\n",
       "      <td>[17570, 17661, 17523, 17499, 17626]</td>\n",
       "      <td>[[408, 0, 132281, 100034, 79589, 18002], [193,...</td>\n",
       "      <td>[18283, 18354, 18208, 18326, 18649]</td>\n",
       "      <td>[[81522, 0, 72691, 5849, 27602, 44526], [49630...</td>\n",
       "      <td>[8031, 6574, 5713, 4460, 5858]</td>\n",
       "    </tr>\n",
       "  </tbody>\n",
       "</table>\n",
       "</div>"
      ],
      "text/plain": [
       "                      reliability  \\\n",
       "0  [0.69, 0.78, 0.62, 0.07, 0.99]   \n",
       "\n",
       "                                          matrix_BSM  \\\n",
       "0  [[222, 0, 14680, 1245, 1786, 680], [2732, 708,...   \n",
       "\n",
       "                           success_BSM  \\\n",
       "0  [18608, 18676, 18739, 18763, 19601]   \n",
       "\n",
       "                                           matrix_BH  \\\n",
       "0  [[7871, 0, 5949, 4533, 3792, 30570], [15403, 8...   \n",
       "\n",
       "                            success_BH  \\\n",
       "0  [17570, 17661, 17523, 17499, 17626]   \n",
       "\n",
       "                                        matrix_GC2_F  \\\n",
       "0  [[408, 0, 132281, 100034, 79589, 18002], [193,...   \n",
       "\n",
       "                         success_GC2_F  \\\n",
       "0  [18283, 18354, 18208, 18326, 18649]   \n",
       "\n",
       "                                      matrix_comp2_F  \\\n",
       "0  [[81522, 0, 72691, 5849, 27602, 44526], [49630...   \n",
       "\n",
       "                  success_comp2_F  \n",
       "0  [8031, 6574, 5713, 4460, 5858]  "
      ]
     },
     "execution_count": 55,
     "metadata": {},
     "output_type": "execute_result"
    }
   ],
   "source": [
    "df"
   ]
  },
  {
   "cell_type": "markdown",
   "id": "36f28bfb-cb27-4deb-aa4e-b40d4910812c",
   "metadata": {
    "jp-MarkdownHeadingCollapsed": true
   },
   "source": [
    "#### Test Baseline"
   ]
  },
  {
   "cell_type": "code",
   "execution_count": 14,
   "id": "00410310-3317-4071-b62f-b4b2d6b3117c",
   "metadata": {},
   "outputs": [
    {
     "data": {
      "text/html": [
       "<div>\n",
       "<style scoped>\n",
       "    .dataframe tbody tr th:only-of-type {\n",
       "        vertical-align: middle;\n",
       "    }\n",
       "\n",
       "    .dataframe tbody tr th {\n",
       "        vertical-align: top;\n",
       "    }\n",
       "\n",
       "    .dataframe thead th {\n",
       "        text-align: right;\n",
       "    }\n",
       "</style>\n",
       "<table border=\"1\" class=\"dataframe\">\n",
       "  <thead>\n",
       "    <tr style=\"text-align: right;\">\n",
       "      <th></th>\n",
       "      <th>matrix_BH</th>\n",
       "      <th>success_BH</th>\n",
       "      <th>matrix_CoopWeight</th>\n",
       "      <th>success_CoopWeight</th>\n",
       "      <th>matrix_CompWeight</th>\n",
       "      <th>success_CompWeight</th>\n",
       "    </tr>\n",
       "  </thead>\n",
       "  <tbody>\n",
       "    <tr>\n",
       "      <th>0</th>\n",
       "      <td>[[8573, 0, 2718, 6422, 7388, 4904], [5590, 108...</td>\n",
       "      <td>[10000, 10018, 10041, 10035, 9958]</td>\n",
       "      <td>[[58020, 0, 15442, 1671, 3598, 34524], [69320,...</td>\n",
       "      <td>[9928, 9833, 9890, 9883, 9936]</td>\n",
       "      <td>[[5526, 0, 17899, 2745, 842, 13646], [14372, 1...</td>\n",
       "      <td>[10002, 10074, 10064, 10005, 10048]</td>\n",
       "    </tr>\n",
       "  </tbody>\n",
       "</table>\n",
       "</div>"
      ],
      "text/plain": [
       "                                           matrix_BH  \\\n",
       "0  [[8573, 0, 2718, 6422, 7388, 4904], [5590, 108...   \n",
       "\n",
       "                           success_BH  \\\n",
       "0  [10000, 10018, 10041, 10035, 9958]   \n",
       "\n",
       "                                   matrix_CoopWeight  \\\n",
       "0  [[58020, 0, 15442, 1671, 3598, 34524], [69320,...   \n",
       "\n",
       "               success_CoopWeight  \\\n",
       "0  [9928, 9833, 9890, 9883, 9936]   \n",
       "\n",
       "                                   matrix_CompWeight  \\\n",
       "0  [[5526, 0, 17899, 2745, 842, 13646], [14372, 1...   \n",
       "\n",
       "                    success_CompWeight  \n",
       "0  [10002, 10074, 10064, 10005, 10048]  "
      ]
     },
     "execution_count": 14,
     "metadata": {},
     "output_type": "execute_result"
    }
   ],
   "source": [
    "columns = ['matrix_BH', 'success_BH', \n",
    "           'matrix_CoopWeight', 'success_CoopWeight', \n",
    "           'matrix_CompWeight', 'success_CompWeight']\n",
    "df = pd.DataFrame(columns=columns)\n",
    "n = 5\n",
    "\n",
    "for i in range(1):\n",
    "    models = [BHModel(n=n), \n",
    "              CoopRewardModel(n=n, weight=1, v=1),\n",
    "              CompetitionModel(n=n, weight=1, v=1)]\n",
    "    for m in models:\n",
    "        for a in m.agents:\n",
    "            a.r = 0.5\n",
    "    data = []\n",
    "    for m in models:\n",
    "        m.run()\n",
    "        data.append([a.urn for a in m.agents])\n",
    "        data.append([a.n_success for a in m.agents])\n",
    "    df = pd.concat([df, pd.DataFrame([data], columns=columns)], ignore_index=True)\n",
    "\n",
    "df"
   ]
  },
  {
   "cell_type": "code",
   "execution_count": null,
   "id": "48c8e8c5-d89d-4ae6-b4dc-41e47f2b2689",
   "metadata": {},
   "outputs": [],
   "source": []
  }
 ],
 "metadata": {
  "kernelspec": {
   "display_name": "Python 3 (ipykernel)",
   "language": "python",
   "name": "python3"
  },
  "language_info": {
   "codemirror_mode": {
    "name": "ipython",
    "version": 3
   },
   "file_extension": ".py",
   "mimetype": "text/x-python",
   "name": "python",
   "nbconvert_exporter": "python",
   "pygments_lexer": "ipython3",
   "version": "3.11.5"
  }
 },
 "nbformat": 4,
 "nbformat_minor": 5
}
